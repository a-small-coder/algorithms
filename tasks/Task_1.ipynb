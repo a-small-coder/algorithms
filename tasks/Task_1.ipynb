{
  "cells": [
    {
      "cell_type": "markdown",
      "id": "244314fb",
      "metadata": {
        "id": "244314fb"
      },
      "source": [
        "# Task 1\n",
        "## Выполнил студент группы БВТ2002 Дубровин Олег"
      ]
    },
    {
      "cell_type": "markdown",
      "id": "18743782",
      "metadata": {
        "id": "18743782"
      },
      "source": [
        "# Задание 1"
      ]
    },
    {
      "cell_type": "markdown",
      "id": "64630386",
      "metadata": {
        "id": "64630386"
      },
      "source": [
        "Даны две строки: `s1` и `s2` с одинаковым размером.\n",
        "\n",
        "Проверьте, может ли некоторая перестановка строки `s1` “победить” некоторую перестановку строки `s2` или наоборот.\n",
        "\n",
        "Строка x может “победить” строку y (обе имеют размер n), если `x[i] >= y[i]` (в алфавитном порядке) для всех i от 0 до n-1.\n"
      ]
    },
    {
      "cell_type": "markdown",
      "id": "cf51dab2",
      "metadata": {
        "id": "cf51dab2"
      },
      "source": [
        "## Ввод"
      ]
    },
    {
      "cell_type": "markdown",
      "id": "d697a747",
      "metadata": {
        "id": "d697a747"
      },
      "source": [
        "`abc`\n",
        "`xya`"
      ]
    },
    {
      "cell_type": "markdown",
      "id": "50b10a2e",
      "metadata": {
        "id": "50b10a2e"
      },
      "source": [
        "## Вывод"
      ]
    },
    {
      "cell_type": "markdown",
      "id": "55442a49",
      "metadata": {
        "id": "55442a49"
      },
      "source": [
        "`True`\n",
        "\n",
        "### Исполняемый код записать в ячейку ниже:"
      ]
    },
    {
      "cell_type": "code",
      "execution_count": null,
      "id": "3b0d440a",
      "metadata": {
        "id": "3b0d440a",
        "outputId": "f3beec5a-5881-4590-99fa-029d3d1c6fdf"
      },
      "outputs": [
        {
          "name": "stdout",
          "output_type": "stream",
          "text": [
            "Введите первую строку: abc\n",
            "Введите вторую строку: xya\n",
            "True\n"
          ]
        }
      ],
      "source": [
        "s1 = input('Введите первую строку: ')\n",
        "s2 = input('Введите вторую строку: ')\n",
        "\n",
        "def compare_str(s1, s2):\n",
        "    s1 = list(s1)\n",
        "    s2 = list(s2)\n",
        "    s1.sort()\n",
        "    s2.sort()\n",
        "    \n",
        "    for i in range(len(s1)):\n",
        "        if s1[i] > s2[i]:\n",
        "            return False\n",
        "    return True\n",
        "print(compare_str(s1,s2))"
      ]
    },
    {
      "cell_type": "markdown",
      "id": "b3a969a6",
      "metadata": {
        "id": "b3a969a6"
      },
      "source": [
        "# Задание 2"
      ]
    },
    {
      "cell_type": "markdown",
      "id": "9c1ce05d",
      "metadata": {
        "id": "9c1ce05d"
      },
      "source": [
        "Дана строка `s`, вернуть самую длинную палиндромную подстроку в `s`."
      ]
    },
    {
      "cell_type": "markdown",
      "id": "20415c0e",
      "metadata": {
        "id": "20415c0e"
      },
      "source": [
        "## Ввод"
      ]
    },
    {
      "cell_type": "markdown",
      "id": "e77fcb44",
      "metadata": {
        "id": "e77fcb44"
      },
      "source": [
        "`babad`"
      ]
    },
    {
      "cell_type": "markdown",
      "id": "49996449",
      "metadata": {
        "id": "49996449"
      },
      "source": [
        "## Вывод"
      ]
    },
    {
      "cell_type": "markdown",
      "id": "75be2464",
      "metadata": {
        "id": "75be2464"
      },
      "source": [
        "`aba` или `bab`"
      ]
    },
    {
      "cell_type": "markdown",
      "id": "12ef9771",
      "metadata": {
        "id": "12ef9771"
      },
      "source": [
        "## Исполняемый код записывать в ячейку ниже"
      ]
    },
    {
      "cell_type": "code",
      "execution_count": null,
      "id": "3f06c4fc",
      "metadata": {
        "id": "3f06c4fc",
        "outputId": "fd3e3da3-46ba-4f0b-ef39-19ac0dc533e0"
      },
      "outputs": [
        {
          "name": "stdout",
          "output_type": "stream",
          "text": [
            "abababaab\n",
            "abababa\n"
          ]
        }
      ],
      "source": [
        "def isPolindrome(s1:str):\n",
        "    return s1 == s1[::-1]\n",
        "def polindrome(s1:str):\n",
        "    polindromeLen = len(s1)\n",
        "    strLength = len(s1)\n",
        "    longest = False\n",
        "    while (polindromeLen >= 2):\n",
        "        for i in range(strLength - polindromeLen + 1):\n",
        "            if isPolindrome(s1[i:i+polindromeLen]):\n",
        "                longest = s1[i:i+polindromeLen]\n",
        "                polindromeLen = 0\n",
        "                break\n",
        "        polindromeLen -= 1\n",
        "    return longest\n",
        "print(polindrome(input()))"
      ]
    },
    {
      "cell_type": "markdown",
      "id": "5f54b630",
      "metadata": {
        "id": "5f54b630"
      },
      "source": [
        "# Задание 3"
      ]
    },
    {
      "cell_type": "markdown",
      "id": "566f1d3b",
      "metadata": {
        "id": "566f1d3b"
      },
      "source": [
        "Вернуть количество отдельных непустых подстрок текста, которые могут быть записаны как конкатенация некоторой строки с самой собой (т.е. она может быть записана, как `a + a`, где `a` - некоторая строка)."
      ]
    },
    {
      "cell_type": "markdown",
      "id": "0f734fd8",
      "metadata": {
        "id": "0f734fd8"
      },
      "source": [
        "## Ввод"
      ]
    },
    {
      "cell_type": "markdown",
      "id": "e0be5554",
      "metadata": {
        "id": "e0be5554"
      },
      "source": [
        "`aabb`"
      ]
    },
    {
      "cell_type": "markdown",
      "id": "ab8eda0b",
      "metadata": {
        "id": "ab8eda0b"
      },
      "source": [
        "## Вывод"
      ]
    },
    {
      "cell_type": "markdown",
      "id": "1d716d36",
      "metadata": {
        "id": "1d716d36"
      },
      "source": [
        "2"
      ]
    },
    {
      "cell_type": "markdown",
      "id": "fcd91349",
      "metadata": {
        "id": "fcd91349"
      },
      "source": [
        "## Исполняемый код записывать в ячейку ниже"
      ]
    },
    {
      "cell_type": "code",
      "execution_count": null,
      "id": "be07379d",
      "metadata": {
        "id": "be07379d",
        "outputId": "091dce91-bec1-4f72-b17f-3914429293ab"
      },
      "outputs": [
        {
          "name": "stdout",
          "output_type": "stream",
          "text": [
            "aabb\n",
            "2\n"
          ]
        }
      ],
      "source": [
        "s = input()\n",
        "def number_str(s):\n",
        "    number = 0\n",
        "    for i in range(len(s) - 1):\n",
        "        f = 2\n",
        "        while f <= len(s):\n",
        "            if s[i: i+ f // 2] == s[i + f //2: i + f]:\n",
        "                number += 1\n",
        "            f +=2\n",
        "    return number\n",
        "print(number_str(s))"
      ]
    }
  ],
  "metadata": {
    "kernelspec": {
      "display_name": "Python 3 (ipykernel)",
      "language": "python",
      "name": "python3"
    },
    "language_info": {
      "codemirror_mode": {
        "name": "ipython",
        "version": 3
      },
      "file_extension": ".py",
      "mimetype": "text/x-python",
      "name": "python",
      "nbconvert_exporter": "python",
      "pygments_lexer": "ipython3",
      "version": "3.10.2"
    },
    "colab": {
      "name": "Task_1.ipynb",
      "provenance": []
    }
  },
  "nbformat": 4,
  "nbformat_minor": 5
}