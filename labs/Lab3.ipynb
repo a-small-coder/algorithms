{
  "cells": [
    {
      "cell_type": "markdown",
      "metadata": {
        "id": "nfmiq3XqVvmW"
      },
      "source": [
        "# Лабораторная работа №3\n",
        "## Выполнил студент группы БВТ2002 Дубровин Олег"
      ],
      "id": "nfmiq3XqVvmW"
    },
    {
      "cell_type": "markdown",
      "id": "independent-spirit",
      "metadata": {
        "id": "independent-spirit"
      },
      "source": [
        "> Дополнительные модули, использованные при выполнение лабораторной"
      ]
    },
    {
      "cell_type": "code",
      "execution_count": null,
      "metadata": {
        "id": "Jg6er2IUVvme"
      },
      "outputs": [],
      "source": [
        "# Необходим при замере скорости выполнения кода\n",
        "from datetime import datetime as t\n",
        "# Нужен для создания словаря в алг. Бойера-Мура\n",
        "from collections import defaultdict"
      ],
      "id": "Jg6er2IUVvme"
    },
    {
      "cell_type": "markdown",
      "id": "inclusive-motorcycle",
      "metadata": {
        "id": "inclusive-motorcycle"
      },
      "source": [
        "### Задание №1\n",
        "Реализовать методы поиска подстроки в строке. Добавить возможность ввода строки и подстроки с клавиатуры. Предусмотреть возможность существования пробела. Реализовать возможность выбора опции чувствительности или нечувствительности к регистру. Оценить время работы каждого алгоритма поиска и сравнить его со временем работы стандартной функции поиска, используемой в выбранном языке программирования."
      ]
    },
    {
      "cell_type": "markdown",
      "id": "interracial-communication",
      "metadata": {
        "id": "interracial-communication"
      },
      "source": [
        "#### Алгоритм Кнута-Морриса-Пратта"
      ]
    },
    {
      "cell_type": "code",
      "execution_count": null,
      "id": "presidential-level",
      "metadata": {
        "id": "presidential-level"
      },
      "outputs": [],
      "source": [
        "# Вспомогательная функция, которая возвращает массив чисел, равный по длине входной строке,\n",
        "# и на каждой позиции указывает на повторение с начала исходной строки\n",
        "def prefix(s):\n",
        "    # Создаем массив длиной в строку\n",
        "    v = [0]*len(s)\n",
        "    # Запускаем цикл for со 2-ого по последний элемент строки\n",
        "    for i in range(1,len(s)):\n",
        "        # Значение предыдущего элемента в массиве\n",
        "        k = v[i-1]\n",
        "        while k > 0 and s[k] != s[i]:\n",
        "            k = v[k-1]\n",
        "        # Встретили ли мы символ с первой строки снова или нет?\n",
        "        if s[k] == s[i]:\n",
        "            k = k + 1\n",
        "        v[i] = k\n",
        "    return v\n",
        "\n",
        "# Алгоритм поиска, получает на вход искомую строку, исходную \n",
        "# и необ. параметр указывающий на чувст. к регистру при поиске\n",
        "def kmp(s,t, isCaseSen = True):\n",
        "    # Если искомая строка больше исходной, то поиск невозможен\n",
        "    if len(s) > len(t):\n",
        "        return -1\n",
        "    # Если функция вызвана с отлюченной чусвт. к регистру,\n",
        "    # то переводим все строки в нижний регистр\n",
        "    if not isCaseSen:\n",
        "        s.lower()\n",
        "        t.lower()\n",
        "    index = -1\n",
        "    \n",
        "    # Определяем префикс в поисковой строке\n",
        "    f = prefix(s)\n",
        "    \n",
        "    k = 0\n",
        "    \n",
        "    # Перебираем в цикле for все символы в исходной строке\n",
        "    for i in range(len(t)):\n",
        "        # Сбрасываем счетчик повторений\n",
        "        while k > 0 and s[k] != t[i]:\n",
        "            k = f[k-1]\n",
        "            \n",
        "        # Cчитаем сколько символов в исходной строке повторилось из исходной\n",
        "        if s[k] == t[i]:\n",
        "            k = k + 1\n",
        "            \n",
        "        if k == len(s):\n",
        "            index = i - len(s) + 1\n",
        "            break\n",
        "            \n",
        "    return index"
      ]
    },
    {
      "cell_type": "markdown",
      "id": "downtown-option",
      "metadata": {
        "id": "downtown-option"
      },
      "source": [
        "#### Алгоритм Бойера-Мура"
      ]
    },
    {
      "cell_type": "code",
      "execution_count": null,
      "id": "respective-reggae",
      "metadata": {
        "id": "respective-reggae"
      },
      "outputs": [],
      "source": [
        "# Алгоритм поиска, получает на вход искомую строку, исходную \n",
        "# и  параметр указывающий на чувст. к регистру при поиске\n",
        "def horspool(s, t, isCaseSen = True):\n",
        "    lenS = len(s)\n",
        "    lenT = len(t)\n",
        "    \n",
        "    # Если функция вызвана с отключенной чусвт. к регистру,\n",
        "    # то переводим все строки в нижний регистр\n",
        "    if not isCaseSen:\n",
        "        s.lower()\n",
        "        t.lower()\n",
        "    \n",
        "    # Если искомая строка больше исходной, то поиск невозможен\n",
        "    if lenS > lenT:\n",
        "        return -1\n",
        "    \n",
        "    skip = defaultdict(lambda: lenS)\n",
        "    index = -1\n",
        "    \n",
        "    # Записываем в словарь символы, которые есть в искомой строке (не включая) и\n",
        "    # указываем сдвиг для них, в зависимости от положения в искомой строке\n",
        "    for k in range(lenS - 1):\n",
        "        skip[ord(s[k])] = lenS - k - 1\n",
        "        \n",
        "    k = lenS - 1\n",
        "\n",
        "    while k < lenT:\n",
        "        j = lenS - 1\n",
        "        i = k\n",
        "        \n",
        "        # С конца поисковой строки ищем совпадения в интервале символов\n",
        "        # исходной строки, в которой сейчас находимся\n",
        "        while j >= 0 and t[i] == s[j]:\n",
        "            j -= 1\n",
        "            i -= 1\n",
        "            \n",
        "        # Если нашли хотя бы одно совпдаение, выходим из цикла, сохранив позицию\n",
        "        if j == -1:\n",
        "            index = i + 1\n",
        "            break\n",
        "            \n",
        "        # Совершаем сдвиг в исходном тексте на величину, указанную в словаре\n",
        "        k += skip[ord(t[k])]\n",
        "        \n",
        "    return index"
      ]
    },
    {
      "cell_type": "markdown",
      "id": "illegal-disabled",
      "metadata": {
        "id": "illegal-disabled"
      },
      "source": [
        "#### Сравнение с со стандартной функцией поиска подстроки в `Python`"
      ]
    },
    {
      "cell_type": "code",
      "execution_count": null,
      "id": "august-management",
      "metadata": {
        "id": "august-management",
        "colab": {
          "base_uri": "https://localhost:8080/"
        },
        "outputId": "52ee1eea-2fe9-4491-a04d-6c983a3110a9"
      },
      "outputs": [
        {
          "output_type": "stream",
          "name": "stdout",
          "text": [
            "Время:  0.000 сек | Результат:  5939 | Стандартная функция\n",
            "Время:  0.000 сек | Результат:  5939 | Стандартная функция (регистронезависимый)\n",
            "Время:  0.002 сек | Результат:  5939 | Алг. Кнута-Морриса-Пратта\n",
            "Время:  0.002 сек | Результат:  5939 | Алг. Кнута-Морриса-Пратта (регистронезависимый)\n",
            "Время:  0.000 сек | Результат:  5939 | Алг. Бойера-Мура\n",
            "Время:  0.001 сек | Результат:  5939 | Алг. Бойера-Мура (регистронезависимый)\n"
          ]
        }
      ],
      "source": [
        "baseStr = str(open('text.txt', 'r').read())\n",
        "searchStr = str(open('search.txt', 'r').read())\n",
        "times = [0]*2\n",
        "result = [0]*2\n",
        "\n",
        "# Стандартная функция\n",
        "start = float(t.now().strftime('%S.%f')[:-3])\n",
        "result[0] = baseStr.find(searchStr)\n",
        "finish = float(t.now().strftime('%S.%f')[:-3])\n",
        "times[0] = \"{:.3f} сек\".format(round(finish-start, 3)) # время поиска рег. завис.\n",
        "print(\"Время: \", times[0], \"| Результат: \", result[0], \"| Стандартная функция\")\n",
        "\n",
        "start = float(t.now().strftime('%S.%f')[:-3])\n",
        "result[1] = baseStr.lower().find(searchStr.lower())\n",
        "finish = float(t.now().strftime('%S.%f')[:-3])\n",
        "times[1] = \"{:.3f} сек\".format(round(finish-start, 3)) # время поиска в нижнем регистре\n",
        "print(\"Время: \", times[1], \"| Результат: \", result[1], \"| Стандартная функция (регистронезависимый)\")\n",
        "\n",
        "# Алг. Кнута-Морриса-Пратта\n",
        "start = float(t.now().strftime('%S.%f')[:-3])\n",
        "result[0] = kmp(searchStr, baseStr)\n",
        "finish = float(t.now().strftime('%S.%f')[:-3])\n",
        "times[0] = \"{:.3f} сек\".format(round(finish-start, 3))\n",
        "print(\"Время: \", times[0], \"| Результат: \", result[0], \"| Алг. Кнута-Морриса-Пратта\")\n",
        "\n",
        "start = float(t.now().strftime('%S.%f')[:-3])\n",
        "result[1] = kmp(searchStr, baseStr, False)\n",
        "finish = float(t.now().strftime('%S.%f')[:-3])\n",
        "times[1] = \"{:.3f} сек\".format(round(finish-start, 3))\n",
        "print(\"Время: \", times[1], \"| Результат: \", result[1], \"| Алг. Кнута-Морриса-Пратта (регистронезависимый)\")\n",
        "\n",
        "# Алг. Бойера — Мура\n",
        "start = float(t.now().strftime('%S.%f')[:-3])\n",
        "result[0] = horspool(searchStr, baseStr)\n",
        "finish = float(t.now().strftime('%S.%f')[:-3])\n",
        "times[0] = \"{:.3f} сек\".format(round(finish-start, 3))\n",
        "print(\"Время: \", times[0], \"| Результат: \", result[0], \"| Алг. Бойера-Мура\")\n",
        "\n",
        "start = float(t.now().strftime('%S.%f')[:-3])\n",
        "result[1] = horspool(searchStr, baseStr, False)\n",
        "finish = float(t.now().strftime('%S.%f')[:-3])\n",
        "times[1] = \"{:.3f} сек\".format(round(finish-start, 3))\n",
        "print(\"Время: \", times[1], \"| Результат: \", result[1], \"| Алг. Бойера-Мура (регистронезависимый)\")"
      ]
    },
    {
      "cell_type": "markdown",
      "source": [
        "\n",
        "Задание №2 Написать программу, определяющую, является ли данное расположение «решаемым», то есть можно ли из него за конечное число шагов перейти к правильному. Если это возможно, то необходимо найти хотя бы одно решение - последовательность движений, после которой числа будут расположены в правильном порядке.\n",
        "\n",
        "Входные данные: массив чисел, представляющий собой расстановку в Порядке «слева направо, сверху вниз». Число 0 обозначает пустое поле. Например, массив [1, 2, 3, 4, 5, 6, 7, 8, 9, 10, 11, 12, 13, 14, 15, 0] представляет собой «решенную» позицию элементов.\n",
        "\n",
        "Выходные данные: если решения нет, то функция должна вернуть Пустой массив []. Если решение есть, то необходимо представить решение — для каждого шага записывается номер передвигаемого на данном шаге элемента."
      ],
      "metadata": {
        "id": "GTYdDn-5Cmcw"
      },
      "id": "GTYdDn-5Cmcw"
    },
    {
      "cell_type": "code",
      "source": [
        "from queue import PriorityQueue\n",
        "\n",
        "N = 4\n",
        "\n",
        "def moves(position):\n",
        "    blank = position.index(0)\n",
        "    i, j = divmod(blank, N)\n",
        "    offsets = []\n",
        "    if i > 0: offsets.append(-N)     \n",
        "    if i < N - 1: offsets.append(N) \n",
        "    if j > 0: offsets.append(-1)     \n",
        "    if j < N - 1: offsets.append(1)  \n",
        "    for offset in offsets:\n",
        "        swap = blank + offset\n",
        "        yield tuple(position[swap] if x==blank else position[blank] if x==swap else position[x] for x in range(N*N))\n",
        "\n",
        "def parity(permutation):\n",
        "    count = 0\n",
        "    for i in range(14):\n",
        "        for j in range(i + 1, 15):\n",
        "            if permutation[i] > permutation[j]:\n",
        "                count += 1\n",
        "    return count % 2\n",
        "\n",
        "\n",
        "class Position:\n",
        "    def __init__(self, position, start_distance):\n",
        "        self.position = position\n",
        "        self.start_distance = start_distance\n",
        "\n",
        "    def __lt__(self, other):\n",
        "        return self.start_distance < other.start_distance\n",
        "\n",
        "    def __str__(self):\n",
        "        return '\\n'.join((N*'{:3}').format(*[i%(N*N) for i in self.position[i:]]) for i in range(0, N*N, N))\n",
        "\n",
        "SOLVED = (1, 2, 3, 4, 5, 6, 7, 8, 9, 10, 11, 12, 13, 14, 15, 0)\n",
        "start = (1, 2, 3, 4, 5, 6, 7, 8, 13, 9, 11, 12, 10, 14, 15, 0)\n",
        "\n",
        "path = []\n",
        "if parity(start):\n",
        "    print(path)\n",
        "else:\n",
        "    p = Position(start, 0)\n",
        "\n",
        "    print(p, \"\\n\")\n",
        "\n",
        "    candidates = PriorityQueue()\n",
        "    candidates.put(p)\n",
        "\n",
        "    visited = {p}\n",
        "\n",
        "    came_from = {p.position: None}\n",
        "    \n",
        "    while p.position != SOLVED:\n",
        "        p = candidates.get()\n",
        "        for k in moves(p.position):\n",
        "            if k not in visited:\n",
        "                candidates.put(Position(k, p.start_distance + 1))\n",
        "                came_from[k] = p\n",
        "                visited.add(k)\n",
        "\n",
        "    prev = p\n",
        "    while p.position != start:\n",
        "        p = came_from[p.position]\n",
        "        number = p.position[prev.position.index(0)]\n",
        "        path.append(number)\n",
        "        prev = p\n",
        "    path.reverse()\n",
        "\n",
        "    print(path)"
      ],
      "metadata": {
        "id": "fAOv0Cz6CpRX"
      },
      "id": "fAOv0Cz6CpRX",
      "execution_count": null,
      "outputs": []
    },
    {
      "cell_type": "markdown",
      "id": "arbitrary-amazon",
      "metadata": {
        "id": "arbitrary-amazon"
      },
      "source": [
        "### Вывод\n",
        "Выполнив данную лабораторную работу, я научился применять на практике различные методы поиска."
      ]
    }
  ],
  "metadata": {
    "kernelspec": {
      "display_name": "Python 3",
      "language": "python",
      "name": "python3"
    },
    "language_info": {
      "codemirror_mode": {
        "name": "ipython",
        "version": 3
      },
      "file_extension": ".py",
      "mimetype": "text/x-python",
      "name": "python",
      "nbconvert_exporter": "python",
      "pygments_lexer": "ipython3",
      "version": "3.9.1"
    },
    "colab": {
      "name": "Lab3_BVT2002_Dubrovin_Oleg.ipynb",
      "provenance": [],
      "collapsed_sections": []
    }
  },
  "nbformat": 4,
  "nbformat_minor": 5
}