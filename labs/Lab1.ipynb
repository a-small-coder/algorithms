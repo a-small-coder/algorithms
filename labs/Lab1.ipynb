{
  "cells": [
    {
      "cell_type": "markdown",
      "id": "fifteen-sailing",
      "metadata": {
        "id": "fifteen-sailing"
      },
      "source": [
        "# Лабораторная работа №1\n",
        "## Выполнил студент группы БВТ2002 Дубровин Олег"
      ]
    },
    {
      "cell_type": "markdown",
      "id": "maritime-conversation",
      "metadata": {
        "id": "maritime-conversation"
      },
      "source": [
        "### Задание №1\n",
        "Написать генератор случайных матриц(многомерных), который принимает\n",
        "опциональные параметры <b>m</b>, <b>n</b>, <b>min_limit</b>, <b>max_limit</b>, где <b>m</b> и <b>n</b> указывают размер\n",
        "матрицы, а <b>min_lim</b> и <b>max_lim</b> - минимальное и максимальное значение для\n",
        "генерируемого числа."
      ]
    },
    {
      "cell_type": "code",
      "execution_count": null,
      "id": "built-contact",
      "metadata": {
        "id": "built-contact"
      },
      "outputs": [],
      "source": [
        "import random\n",
        "import time"
      ]
    },
    {
      "cell_type": "code",
      "execution_count": null,
      "id": "alert-charm",
      "metadata": {
        "id": "alert-charm",
        "outputId": "539990a8-0528-409d-dff3-685224114630"
      },
      "outputs": [
        {
          "name": "stdout",
          "output_type": "stream",
          "text": [
            "4\n",
            "3\n",
            "0\n",
            "8\n",
            "4 3 0 8\n"
          ]
        }
      ],
      "source": [
        "user_m = input()\n",
        "user_n = input()\n",
        "user_min_limit = input()\n",
        "user_max_limit = input()\n",
        "print(user_m, user_n, user_min_limit, user_max_limit)"
      ]
    },
    {
      "cell_type": "code",
      "execution_count": null,
      "id": "warming-township",
      "metadata": {
        "id": "warming-township",
        "outputId": "c82ad4d6-77f5-4b2a-bca9-de5e65bc7973"
      },
      "outputs": [
        {
          "name": "stdout",
          "output_type": "stream",
          "text": [
            "[[0, 0, 0, 0], [0, 0, 0, 0], [0, 0, 0, 0]]\n"
          ]
        }
      ],
      "source": [
        "if (user_m == ''):\n",
        "    m = 50\n",
        "else:\n",
        "    m = int(user_m)\n",
        "    \n",
        "if (user_n == ''):\n",
        "    n = 50\n",
        "else:\n",
        "    n = int(user_n)\n",
        "\n",
        "if (user_min_limit == ''):\n",
        "    min_limit = -250\n",
        "else:\n",
        "    min_limit = int(user_min_limit)\n",
        "    \n",
        "if (user_max_limit == ''):\n",
        "    max_limit = 1000 + 2\n",
        "else:\n",
        "    max_limit = int(user_max_limit)\n",
        "\n",
        "arr = [[0] * m for i in range(n)] \n",
        "\n",
        "print(arr)"
      ]
    },
    {
      "cell_type": "code",
      "execution_count": null,
      "id": "minor-eleven",
      "metadata": {
        "scrolled": true,
        "id": "minor-eleven",
        "outputId": "9c8b89b9-e03a-40d7-c077-34720a19344d"
      },
      "outputs": [
        {
          "name": "stdout",
          "output_type": "stream",
          "text": [
            "Выполняю заись в ячейку [0][0], числа 8\n",
            "Выполняю заись в ячейку [0][1], числа 5\n",
            "Выполняю заись в ячейку [0][2], числа 0\n",
            "Выполняю заись в ячейку [0][3], числа 1\n",
            "Выполняю заись в ячейку [1][0], числа 2\n",
            "Выполняю заись в ячейку [1][1], числа 8\n",
            "Выполняю заись в ячейку [1][2], числа 0\n",
            "Выполняю заись в ячейку [1][3], числа 8\n",
            "Выполняю заись в ячейку [2][0], числа 2\n",
            "Выполняю заись в ячейку [2][1], числа 2\n",
            "Выполняю заись в ячейку [2][2], числа 2\n",
            "Выполняю заись в ячейку [2][3], числа 8\n"
          ]
        }
      ],
      "source": [
        "for i in range(len(arr)):\n",
        "    for j in range(len(arr[i])):\n",
        "        arr[i][j] = random.randint(min_limit, max_limit)\n",
        "        print(\"Выполняю заись в ячейку [{0}][{1}], числа {2}\".format(i, j, arr[i][j]))"
      ]
    },
    {
      "cell_type": "code",
      "execution_count": null,
      "id": "artificial-prevention",
      "metadata": {
        "scrolled": true,
        "id": "artificial-prevention",
        "outputId": "a23207cf-7fb5-43a9-da91-69a93fe4e4fa"
      },
      "outputs": [
        {
          "name": "stdout",
          "output_type": "stream",
          "text": [
            "[8, 5, 0, 1]\n",
            "[2, 8, 0, 8]\n",
            "[2, 2, 2, 8]\n"
          ]
        }
      ],
      "source": [
        "for i in range(len(arr)):\n",
        "    print(arr[i])"
      ]
    },
    {
      "cell_type": "markdown",
      "id": "catholic-roots",
      "metadata": {
        "id": "catholic-roots"
      },
      "source": [
        "### Задание №2\n",
        "Реализовать методы сортировки строк числовой матрицы в соответствии с\n",
        "заданием. Оценить время работы каждого алгоритма сортировки и сравнить его со\n",
        "временем стандартной функции сортировки. Испытания проводить на сгенерированных\n",
        "матрицах."
      ]
    },
    {
      "cell_type": "code",
      "execution_count": null,
      "id": "opposed-creature",
      "metadata": {
        "id": "opposed-creature"
      },
      "outputs": [],
      "source": [
        "import copy"
      ]
    },
    {
      "cell_type": "code",
      "execution_count": null,
      "id": "cleared-anniversary",
      "metadata": {
        "id": "cleared-anniversary",
        "outputId": "4731d04d-9891-4e36-b055-b5c8c2010ccb"
      },
      "outputs": [
        {
          "name": "stdout",
          "output_type": "stream",
          "text": [
            "--- 0 ms ---\n"
          ]
        }
      ],
      "source": [
        "# Сортировка выбором.\n",
        "# Берётся срез массива, в котором минимальный элемент переносят в самый левый угол,\n",
        "# после чего срез уменьшается и цикл повторяется.\n",
        "start_time = time.time()\n",
        "arr_sort_1 = copy.deepcopy(arr)\n",
        "for i in range(len(arr_sort_1)):\n",
        "    j = 0\n",
        "    while j < len(arr_sort_1[i]) - 1:\n",
        "        m = j\n",
        "        k = j + 1\n",
        "        while k < len(arr_sort_1[i]):\n",
        "            if arr_sort_1[i][k] < arr_sort_1[i][m]:\n",
        "                m = k\n",
        "            k += 1\n",
        "        arr_sort_1[i][j], arr_sort_1[i][m] = arr_sort_1[i][m], arr_sort_1[i][j]\n",
        "        j += 1\n",
        "    #print(arr_sort_1[i])\n",
        "print(\"--- {0} ms ---\".format(round((time.time() - start_time)*1000)))"
      ]
    },
    {
      "cell_type": "code",
      "execution_count": null,
      "id": "roman-silly",
      "metadata": {
        "scrolled": true,
        "id": "roman-silly",
        "outputId": "806bd305-ba51-4e01-de2d-5e169ed0473e"
      },
      "outputs": [
        {
          "name": "stdout",
          "output_type": "stream",
          "text": [
            "--- 0 ms ---\n"
          ]
        }
      ],
      "source": [
        "# Сортировка вставкой.\n",
        "start_time = time.time()\n",
        "arr_sort_2 = copy.deepcopy(arr)\n",
        "for i in range (len(arr_sort_2)):\n",
        "    for j in range(1, len(arr_sort_2[i])):\n",
        "            key = arr_sort_2[i][j]\n",
        "            k = j-1\n",
        "            while k >= 0 and key < arr_sort_2[i][k] :\n",
        "                arr_sort_2[i][k+1] = arr_sort_2[i][k]\n",
        "                k -= 1\n",
        "            arr_sort_2[i][k+1] = key\n",
        "    #print(arr_sort_2[i])\n",
        "print(\"--- {0} ms ---\".format(round((time.time() - start_time)*1000)))"
      ]
    },
    {
      "cell_type": "code",
      "execution_count": null,
      "id": "vital-implementation",
      "metadata": {
        "id": "vital-implementation",
        "outputId": "fcdf1a09-bea6-4451-de35-f55c6139f418"
      },
      "outputs": [
        {
          "name": "stdout",
          "output_type": "stream",
          "text": [
            "--- 0 ms ---\n"
          ]
        }
      ],
      "source": [
        "# Сортировка обменом. || Сортировка пузырьком.\n",
        "start_time = time.time()\n",
        "arr_sort_3 = copy.deepcopy(arr)\n",
        "for i in range(len(arr_sort_3)):\n",
        "    for j in range(len(arr_sort_3[i])-1):\n",
        "        for k in range(len(arr_sort_3[i])-j-1):\n",
        "            if arr_sort_3[i][k] > arr_sort_3[i][k+1]:\n",
        "                buff = arr_sort_3[i][k]\n",
        "                arr_sort_3[i][k] = arr_sort_3[i][k+1]\n",
        "                arr_sort_3[i][k+1] = buff\n",
        "    #print(arr_sort_3[i])\n",
        "print(\"--- {0} ms ---\".format(round((time.time() - start_time)*1000)))"
      ]
    },
    {
      "cell_type": "code",
      "execution_count": null,
      "id": "veterinary-glory",
      "metadata": {
        "id": "veterinary-glory",
        "outputId": "45f816c3-96a7-41aa-cbbb-d386d822a3fe"
      },
      "outputs": [
        {
          "name": "stdout",
          "output_type": "stream",
          "text": [
            "--- 1 ms ---\n"
          ]
        }
      ],
      "source": [
        "# Сортировка Шелла.\n",
        "start_time = time.time()\n",
        "arr_sort_4 = copy.deepcopy(arr)\n",
        "for i in range(len(arr_sort_4)):\n",
        "    last_index = len(arr_sort_4) - 1\n",
        "    step = len(arr_sort_4)//2\n",
        "    while step > 0:\n",
        "        for j in range(step, last_index + 1, 1):\n",
        "            k = j\n",
        "            delta = k - step\n",
        "            while delta >= 0 and arr_sort_4[i][delta] > arr_sort_4[i][k]:\n",
        "                arr_sort_4[i][delta], arr_sort_4[i][k] = arr_sort_4[i][k], arr_sort_4[i][delta]\n",
        "                k = delta\n",
        "                delta = k - step\n",
        "        step //= 2\n",
        "    #print(arr_sort_4[i])\n",
        "print(\"--- {0} ms ---\".format(round((time.time() - start_time)*1000)))"
      ]
    },
    {
      "cell_type": "code",
      "execution_count": null,
      "id": "correct-chaos",
      "metadata": {
        "id": "correct-chaos",
        "outputId": "7c9db76a-1ff5-4525-e11c-427665bcbb6b"
      },
      "outputs": [
        {
          "name": "stdout",
          "output_type": "stream",
          "text": [
            "--- 1 ms ---\n"
          ]
        }
      ],
      "source": [
        "# Быстрая сортировка.\n",
        "start_time = time.time()\n",
        "\n",
        "arr_sort_5 = copy.deepcopy(arr)\n",
        "\n",
        "def quicksort(nums):\n",
        "   if len(nums) <= 1:\n",
        "       return nums\n",
        "   else:\n",
        "       q = random.choice(nums)\n",
        "   l_nums = [n for n in nums if n < q]\n",
        " \n",
        "   e_nums = [q] * nums.count(q)\n",
        "   b_nums = [n for n in nums if n > q]\n",
        "   return quicksort(l_nums) + e_nums + quicksort(b_nums)\n",
        "\n",
        "for i in range(len(arr_sort_5)):\n",
        "    arr_sort_5[i] = quicksort(arr_sort_5[i])\n",
        "    #print(arr_sort_5[i])\n",
        "\n",
        "print(\"--- {0} ms ---\".format(round((time.time() - start_time)*1000)))\n",
        "    "
      ]
    },
    {
      "cell_type": "code",
      "execution_count": null,
      "id": "french-czech",
      "metadata": {
        "id": "french-czech",
        "outputId": "4b27aee6-18be-416f-b3a6-64c2578f17c1"
      },
      "outputs": [
        {
          "name": "stdout",
          "output_type": "stream",
          "text": [
            "[0, 1, 5, 8]\n",
            "[0, 2, 8, 8]\n",
            "[2, 2, 2, 8]\n",
            "--- 1 ms ---\n"
          ]
        }
      ],
      "source": [
        "# Турнирная сортировка.\n",
        "start_time = time.time()\n",
        "\n",
        "arr_sort_6 = copy.deepcopy(arr)\n",
        "\n",
        "def tour(ar):\n",
        "    while len(ar) > 1:\n",
        "        win_nums = []\n",
        "        if len(ar) % 2 != 0:\n",
        "            ar.append(max(ar)+1)\n",
        "        for i in range(0, len(ar), 2):\n",
        "            if ar[i] > ar[i+1]:\n",
        "                win_nums.append(ar[i+1])\n",
        "            else:\n",
        "                win_nums.append(ar[i])\n",
        "        ar = copy.copy(win_nums)\n",
        "    return ar\n",
        "\n",
        "def toursort(ar):\n",
        "    sorted_arr = []\n",
        "    while (len(ar) > 0):\n",
        "        winner = tour(copy.copy(ar))[0]\n",
        "        #print(\"{0} - removing {1}\".format(ar, winner))\n",
        "        ar.remove(winner)\n",
        "        sorted_arr.append(winner)\n",
        "    return sorted_arr\n",
        "    \n",
        "for i in range(len(arr_sort_6)):\n",
        "    arr_sort_6[i] = toursort(arr_sort_6[i])\n",
        "    print(arr_sort_6[i])\n",
        "    \n",
        "print(\"--- {0} ms ---\".format(round((time.time() - start_time)*1000)))"
      ]
    },
    {
      "cell_type": "markdown",
      "id": "rental-jerusalem",
      "metadata": {
        "id": "rental-jerusalem"
      },
      "source": [
        "### Вывод\n",
        "Выполнив данную лабораторная работу я научился использовать на практике различные методы сортировки."
      ]
    }
  ],
  "metadata": {
    "kernelspec": {
      "display_name": "Python 3",
      "language": "python",
      "name": "python3"
    },
    "language_info": {
      "codemirror_mode": {
        "name": "ipython",
        "version": 3
      },
      "file_extension": ".py",
      "mimetype": "text/x-python",
      "name": "python",
      "nbconvert_exporter": "python",
      "pygments_lexer": "ipython3",
      "version": "3.9.1"
    },
    "colab": {
      "name": "Lab1.ipynb",
      "provenance": [],
      "collapsed_sections": []
    }
  },
  "nbformat": 4,
  "nbformat_minor": 5
}