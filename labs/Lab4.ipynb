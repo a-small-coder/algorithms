{
  "cells": [
    {
      "cell_type": "markdown",
      "id": "exterior-coordinate",
      "metadata": {
        "id": "exterior-coordinate"
      },
      "source": [
        "# Лабораторная работа №4\n",
        "## Выполнил студент группы БВТ2002 Дубровин Олег"
      ]
    },
    {
      "cell_type": "markdown",
      "id": "subtle-semester",
      "metadata": {
        "id": "subtle-semester"
      },
      "source": [
        "### Оглавление\n",
        "* [Stack](#Stack)\n",
        "* [Deque](#Deque)\n",
        "* [Задание 1](#Задание-1)\n",
        "* [Задание 2](#Задание-2)\n",
        "* [Задание 3](#Задание-3)\n",
        "* [Задание 4](#Задание-4)\n",
        "* [Задание 5](#Задание-5)\n",
        "* [Задание 6](#Задание-6)\n",
        "* [Задание 7](#Задание-7)\n",
        "* [Задание 8](#Задание-8)\n",
        "* [Задание 9](#Задание-9)\n",
        "* [Задание 10](#Задание-10)\n",
        "* [Задание 11](#Задание-11)\n",
        "* [Вывод](#Вывод)"
      ]
    },
    {
      "cell_type": "markdown",
      "id": "corrected-juice",
      "metadata": {
        "id": "corrected-juice"
      },
      "source": [
        "Реализовать следующие структуры данных:\n",
        "* Стек (`stack`):\n",
        "    * операции для стека: \n",
        "        * инициализация;\n",
        "        * проверка на пустоту;\n",
        "        * добавление нового элемента в начало;\n",
        "        * извлечение элемента из начала;\n",
        "* Дек (двусторонняя очередь, `deque`):\n",
        "    * операции для дека: \n",
        "        * инициализация;\n",
        "        * проверка на пустоту;\n",
        "        * добавление нового элемента в начало; \n",
        "        * добавление нового элемента в конец;\n",
        "        * извлечение элемента из начала; \n",
        "        * извлечение элемента из конца;\n",
        "\n",
        "Разработать программу обработки данных, содержащихся в заранее\n",
        "подготовленном txt-файле, в соответствии с заданиями, применив\n",
        "указанную в задании структуру данных. Результат работы программы\n",
        "вывести на экран и сохранить в отдельном txt-файле."
      ]
    },
    {
      "cell_type": "markdown",
      "id": "modified-heater",
      "metadata": {
        "id": "modified-heater"
      },
      "source": [
        "### Stack"
      ]
    },
    {
      "cell_type": "code",
      "execution_count": null,
      "id": "divine-classroom",
      "metadata": {
        "id": "divine-classroom"
      },
      "outputs": [],
      "source": [
        "# Библиотека для копирования листов, используется в Деке\n",
        "import copy"
      ]
    },
    {
      "cell_type": "code",
      "execution_count": null,
      "id": "future-chorus",
      "metadata": {
        "id": "future-chorus"
      },
      "outputs": [],
      "source": [
        "class Stack:\n",
        "    # Инициализатор\n",
        "    def __init__(self, size):\n",
        "        # Создаем массив указанного размера\n",
        "        self.arr = ['empty'] * size\n",
        "        # Кол-во занятых переменных\n",
        "        self.count = 0\n",
        "        \n",
        "    # Добавление нового элемента в начало\n",
        "    def push(self, elem):\n",
        "        # Если проверка на переполнения не пройдена, возникает ошибка\n",
        "        if self.count + 1 > len(self.arr): \n",
        "            raise Exception('Элемент {}, не может быть помещен в Stack, так как он будет переполнен.'.format(elem))\n",
        "        self.arr[self.count] = elem\n",
        "        self.count += 1\n",
        "        \n",
        "    # Извлечение элемента с начала\n",
        "    def pop(self):\n",
        "        if self.count - 1 >= 0:\n",
        "            elem = self.arr[self.count-1]\n",
        "            self.arr[self.count-1] = 'empty'\n",
        "            self.count -= 1\n",
        "            if elem == None:\n",
        "                return 0\n",
        "            else:\n",
        "                return elem\n",
        "            \n",
        "    def top(self):\n",
        "        elem = self.arr[self.count-1]\n",
        "        if elem == None:\n",
        "            return 0\n",
        "        else:\n",
        "            return elem\n",
        "            \n",
        "    # Проверка на пустоту        \n",
        "    def isEmpty(self):\n",
        "        if self.count == 0:\n",
        "                return True        \n",
        "        return False\n",
        "    \n",
        "    # Вывод содержимого стека\n",
        "    def print(self):\n",
        "        print(\"Stack =\", self.arr,\"len =\", self.count)"
      ]
    },
    {
      "cell_type": "markdown",
      "id": "flexible-motorcycle",
      "metadata": {
        "id": "flexible-motorcycle"
      },
      "source": [
        "### Deque"
      ]
    },
    {
      "cell_type": "code",
      "execution_count": null,
      "id": "crucial-december",
      "metadata": {
        "id": "crucial-december"
      },
      "outputs": [],
      "source": [
        "\n",
        "class Deque(Stack):\n",
        "    # Инициализатор\n",
        "    def __init__(self, size):\n",
        "        self.j = -1\n",
        "        Stack.__init__(self, size)\n",
        "    \n",
        "    # Сдвигаем все элементы массива в нужную сторону\n",
        "    def _move(self, direct):\n",
        "        if direct == 'right' and self.arr[len(self.arr) - 1] == 'empty':\n",
        "            nArr = ['empty'] * len(self.arr)\n",
        "            j = 0\n",
        "            for i in range(len(self.arr)):\n",
        "                if i >= len(self.arr) - self.count:\n",
        "                    nArr[i] = self.arr[j]\n",
        "                    j += 1\n",
        "            self.arr = nArr.copy()\n",
        "        if direct == 'left' and self.arr[0] == 'empty':\n",
        "            nArr = ['empty'] * len(self.arr)\n",
        "            j = len(self.arr) - self.count\n",
        "            for i in range(len(self.arr)):\n",
        "                if j < len(self.arr):\n",
        "                    nArr[i] = self.arr[j]\n",
        "                    j += 1\n",
        "            self.arr = nArr.copy()\n",
        "            \n",
        "    # Добавление нового элемента в начало\n",
        "    def push(self, elem):\n",
        "        Deque._move(self, 'left')\n",
        "        Stack.push(self, elem)\n",
        "        \n",
        "    # Извлечение элемента с начала    \n",
        "    def pop(self):\n",
        "        Deque._move(self, 'left')\n",
        "        return Stack.pop(self)\n",
        "    \n",
        "    # Добавление нового элемента в конец\n",
        "    def pushEnd(self, elem):\n",
        "        if len(self.arr) < 2:\n",
        "            Stack.push(self, elem)\n",
        "        if self.count + 1 > len(self.arr):\n",
        "            raise Exception('Элемент {}, не может быть помещен в Stack, так как он будет переполнен.'.format(elem))\n",
        "        else:\n",
        "            Deque._move(self, 'right')\n",
        "            self.arr[len(self.arr) - self.count - 1] = elem\n",
        "            self.count += 1\n",
        "            \n",
        "    # Извлечение элемента с конца\n",
        "    def popEnd(self):\n",
        "        if len(self.arr) - (self.count - 1) <= len(self.arr):\n",
        "            Deque._move(self, 'right')\n",
        "            elem = self.arr[len(self.arr) - self.count] \n",
        "            self.arr[len(self.arr) - self.count] = 'empty'\n",
        "            self.count -= 1\n",
        "            return elem"
      ]
    },
    {
      "cell_type": "markdown",
      "id": "advance-progressive",
      "metadata": {
        "id": "advance-progressive"
      },
      "source": [
        "### Задание 1 \n",
        "Отсортировать строки файла, содержащие названия книг, в алфавитном порядке с\n",
        "использованием 2-ух `Deque`."
      ]
    },
    {
      "cell_type": "code",
      "execution_count": null,
      "id": "taken-mounting",
      "metadata": {
        "id": "taken-mounting",
        "outputId": "ab673834-a81c-4242-cb34-29cc2ea448f7",
        "colab": {
          "base_uri": "https://localhost:8080/",
          "height": 235
        }
      },
      "outputs": [
        {
          "output_type": "error",
          "ename": "FileNotFoundError",
          "evalue": "ignored",
          "traceback": [
            "\u001b[0;31m---------------------------------------------------------------------------\u001b[0m",
            "\u001b[0;31mFileNotFoundError\u001b[0m                         Traceback (most recent call last)",
            "\u001b[0;32m<ipython-input-5-4a88097931ef>\u001b[0m in \u001b[0;36m<module>\u001b[0;34m()\u001b[0m\n\u001b[1;32m     10\u001b[0m \u001b[0;34m\u001b[0m\u001b[0m\n\u001b[1;32m     11\u001b[0m \u001b[0;31m# Получаем список книг и записываем его в лист Books\u001b[0m\u001b[0;34m\u001b[0m\u001b[0;34m\u001b[0m\u001b[0;34m\u001b[0m\u001b[0m\n\u001b[0;32m---> 12\u001b[0;31m \u001b[0mf\u001b[0m \u001b[0;34m=\u001b[0m \u001b[0mopen\u001b[0m\u001b[0;34m(\u001b[0m\u001b[0;34m'input.txt'\u001b[0m\u001b[0;34m,\u001b[0m \u001b[0mencoding\u001b[0m\u001b[0;34m=\u001b[0m\u001b[0;34m\"utf8\"\u001b[0m\u001b[0;34m)\u001b[0m\u001b[0;34m\u001b[0m\u001b[0;34m\u001b[0m\u001b[0m\n\u001b[0m\u001b[1;32m     13\u001b[0m \u001b[0;32mfor\u001b[0m \u001b[0mline\u001b[0m \u001b[0;32min\u001b[0m \u001b[0mf\u001b[0m\u001b[0;34m:\u001b[0m\u001b[0;34m\u001b[0m\u001b[0;34m\u001b[0m\u001b[0m\n\u001b[1;32m     14\u001b[0m     \u001b[0mbooks\u001b[0m\u001b[0;34m.\u001b[0m\u001b[0mappend\u001b[0m\u001b[0;34m(\u001b[0m\u001b[0mnlDel\u001b[0m\u001b[0;34m(\u001b[0m\u001b[0mline\u001b[0m\u001b[0;34m)\u001b[0m\u001b[0;34m)\u001b[0m\u001b[0;34m\u001b[0m\u001b[0;34m\u001b[0m\u001b[0m\n",
            "\u001b[0;31mFileNotFoundError\u001b[0m: [Errno 2] No such file or directory: 'input.txt'"
          ]
        }
      ],
      "source": [
        "books = []\n",
        "\n",
        "# Функция для удаления символов переноса строки\n",
        "def nlDel(s):\n",
        "    pos = s.find('\\n')\n",
        "    if pos > -1:\n",
        "        return s[0:pos]\n",
        "    else:\n",
        "        return s\n",
        "\n",
        "# Получаем список книг и записываем его в лист Books \n",
        "f = open('input.txt', encoding=\"utf8\")\n",
        "for line in f:\n",
        "    books.append(nlDel(line))\n",
        "f.close()\n",
        "    \n",
        "# Создаем две деки размером равным кол-ву книг\n",
        "d1 = Deque(len(books))\n",
        "d2 = Deque(len(books))\n",
        "\n",
        "# Заполняем первую Деку книгами из списка\n",
        "for book in range(len(books)):\n",
        "    d1.push(books[book])\n",
        "\n",
        "def sort(fr, to): \n",
        "    # Перекидываем первый элемент из одной деки в другую\n",
        "    book = fr.pop()\n",
        "    lastBook = book\n",
        "    to.push(book)\n",
        "    \n",
        "    # Сортируем оставшиеся элементы, те, у которых буквы на позиции j весят больше,\n",
        "    # чем у предыдущего названия, идут в конец, иначе в начало\n",
        "    for i in range(len(books)-1):\n",
        "        for j in range(min(len(lastBook),len(book))):\n",
        "            book = fr.pop()\n",
        "            if ord(lastBook[j]) != ord(book[j]):\n",
        "                if ord(lastBook[j]) < ord(book[j]):\n",
        "                    to.pushEnd(book)\n",
        "                if ord(lastBook[j]) > ord(book[j]):\n",
        "                    to.push(book)\n",
        "                lastBook = book\n",
        "                break\n",
        "            else:\n",
        "                fr.push(book)\n",
        "                \n",
        "    # Проверяем, что все элементы отсортированы\n",
        "    isSorted = True\n",
        "    book = to.pop()\n",
        "    lastBook = book\n",
        "    fr.push(book)\n",
        "    \n",
        "    for i in range(len(books)-1):\n",
        "        for j in range(min(len(lastBook),len(book))):\n",
        "            book = to.pop()\n",
        "            if ord(lastBook[j]) != ord(book[j]):\n",
        "                if ord(lastBook[j]) > ord(book[j]):\n",
        "                    isSorted = False\n",
        "                fr.pushEnd(book)\n",
        "                lastBook = book\n",
        "                break\n",
        "            else:\n",
        "                to.push(book)\n",
        "        \n",
        "    if (not isSorted):\n",
        "        return sort(fr,to)\n",
        "    \n",
        "# Сортируем список книг\n",
        "sort(d1,d2)\n",
        "\n",
        "# Открываем файл для записи \n",
        "f = open('output.txt', 'w', encoding=\"utf8\")\n",
        "# Заносим отсортированные книги в файл\n",
        "for i in range(d1.count):\n",
        "    print(d1.pop(), file=f)\n",
        "f.close()"
      ]
    },
    {
      "cell_type": "markdown",
      "id": "bound-ending",
      "metadata": {
        "id": "bound-ending"
      },
      "source": [
        "### Задание 2\n",
        "`Deque` содержит последовательность символов для шифровки сообщений. Дан\n",
        "текстовый файл, содержащий зашифрованное сообщение. Пользуясь `Deque` нужном,\n",
        "расшифровать текст. **Известно, что при шифровке каждый символ сообщения\n",
        "заменялся следующим за ним в `Deque` по часовой стрелке через один.**\n"
      ]
    },
    {
      "cell_type": "code",
      "execution_count": null,
      "id": "continent-piece",
      "metadata": {
        "id": "continent-piece"
      },
      "outputs": [],
      "source": [
        "# Библиотека, которую использую для создания псевдослучайных комбинаций\n",
        "import random"
      ]
    },
    {
      "cell_type": "code",
      "execution_count": null,
      "id": "listed-seminar",
      "metadata": {
        "colab": {
          "base_uri": "https://localhost:8080/"
        },
        "id": "listed-seminar",
        "outputId": "a343e06a-18a9-4907-8ca7-98879b118863"
      },
      "outputs": [
        {
          "output_type": "stream",
          "name": "stdout",
          "text": [
            ":рщФЩчы ,Ю, чФЖщ -ЩяЮх - Зашифровонная фраза\n",
            "Привет, как твои дела? - Расшифровка\n"
          ]
        }
      ],
      "source": [
        "# Создаем словарь заменяемых символов и перемешиваем список этих символов\n",
        "alphabet = list('АаБбВвГгДдЕеЁёЖжЗзИиЙйКкЛлМмНнОоПпСсТтУуФфХхЦцЧчШшЩщЪъЫыЬьЭэЮюЯя-.?!)(,:\\\\\\'\"')\n",
        "random.shuffle(alphabet)\n",
        "alphabet = ''.join(alphabet)\n",
        "\n",
        "# Заполням дек\n",
        "d = Deque(len(alphabet))\n",
        "[d.push(alphabet[i]) for i in range(len(alphabet))]\n",
        "\n",
        "# Строка для шифрования\n",
        "s = 'Привет, как твои дела?'\n",
        "\n",
        "# Функция для шифрования\n",
        "def encode(t,d):\n",
        "    t = list(t)\n",
        "    # Проходим все символы в исходной строке\n",
        "    for i in range(len(t)):\n",
        "        for j in range(d.count):\n",
        "            c = d.pop()\n",
        "            # Если указанный символ есть в нашем списке символов, то\n",
        "            # заменяем символ из строки следующим через 1 символ из списка\n",
        "            if c == t[i]:\n",
        "                d.pushEnd(c)\n",
        "                d.pushEnd(d.pop())\n",
        "                c = d.pop()\n",
        "                t[i] = c\n",
        "            d.pushEnd(c)\n",
        "    return ''.join(t)\n",
        "    \n",
        "# Функция для расшифровки    \n",
        "def decode(t,d):\n",
        "    t = list(t)\n",
        "    # Проходим все символы в исходной строке\n",
        "    for i in range(len(t)):\n",
        "        for j in range(d.count):\n",
        "            c = d.pop()\n",
        "            # Если указанный символ есть в нашем списке символов, то\n",
        "            # заменяем символ из строки следующим через 1 символ из списка (в обратном порядке)\n",
        "            if c == t[i]:\n",
        "                d.push(c)\n",
        "                d.push(d.popEnd())\n",
        "                c = d.popEnd()\n",
        "                t[i] = c\n",
        "            d.push(c)\n",
        "    return ''.join(t)\n",
        "\n",
        "print(encode(s,d), \"- Зашифровонная фраза\",)\n",
        "print(decode(s,d), \"- Расшифровка\")"
      ]
    },
    {
      "cell_type": "markdown",
      "id": "korean-heart",
      "metadata": {
        "id": "korean-heart"
      },
      "source": [
        "### Задание 3\n",
        "Даны три стержня и n дисков различного размера. Диски можно надевать на\n",
        "стержни, образуя из них башни. Перенести n дисков со стержня А на стержень С,\n",
        "сохранив их первоначальный порядок. \n",
        "\n",
        "При переносе дисков необходимо соблюдать\n",
        "следующие правила:\n",
        "- на каждом шаге со стержня на стержень переносить только один диск;\n",
        "- диск нельзя помещать на диск меньшего размера;\n",
        "- для промежуточного хранения можно использовать стержень В.\n",
        "\n",
        "Реализовать алгоритм, используя три стека вместо стержней А, В, С. Информация\n",
        "о дисках хранится в исходном файле.\n"
      ]
    },
    {
      "cell_type": "markdown",
      "id": "national-ranch",
      "metadata": {
        "id": "national-ranch"
      },
      "source": [
        "![Tower_of_Hanoi_4](https://upload.wikimedia.org/wikipedia/commons/6/60/Tower_of_Hanoi_4.gif \"Решение такой задачи с 4 дисками\")"
      ]
    },
    {
      "cell_type": "code",
      "execution_count": null,
      "id": "solid-bronze",
      "metadata": {
        "colab": {
          "base_uri": "https://localhost:8080/"
        },
        "id": "solid-bronze",
        "outputId": "1ec88ac0-028b-4d65-aae8-954bcdf73fd9"
      },
      "outputs": [
        {
          "output_type": "stream",
          "name": "stdout",
          "text": [
            "A\n",
            "Stack = [3, 2, 1] len = 3\n",
            "--- Перемещения ---\n",
            "\n",
            " A\n",
            "Stack = [3, 2, 'empty'] len = 2\n",
            "C\n",
            "Stack = [1, 'empty', 'empty'] len = 1\n",
            "\n",
            " A\n",
            "Stack = [3, 'empty', 'empty'] len = 1\n",
            "B\n",
            "Stack = [2, 'empty', 'empty'] len = 1\n",
            "\n",
            " B\n",
            "Stack = [2, 1, 'empty'] len = 2\n",
            "C\n",
            "Stack = ['empty', 'empty', 'empty'] len = 0\n",
            "\n",
            " A\n",
            "Stack = ['empty', 'empty', 'empty'] len = 0\n",
            "C\n",
            "Stack = [3, 'empty', 'empty'] len = 1\n",
            "\n",
            " A\n",
            "Stack = [1, 'empty', 'empty'] len = 1\n",
            "B\n",
            "Stack = [2, 'empty', 'empty'] len = 1\n",
            "\n",
            " B\n",
            "Stack = ['empty', 'empty', 'empty'] len = 0\n",
            "C\n",
            "Stack = [3, 2, 'empty'] len = 2\n",
            "\n",
            " A\n",
            "Stack = ['empty', 'empty', 'empty'] len = 0\n",
            "C\n",
            "Stack = [3, 2, 1] len = 3\n",
            "--- Итог ---\n",
            "C\n",
            "Stack = [3, 2, 1] len = 3\n"
          ]
        }
      ],
      "source": [
        "disks = 3\n",
        "# Создаем три стека для стержней равные кол-ву дисков\n",
        "A = Stack(disks) \n",
        "B = Stack(disks) \n",
        "C = Stack(disks) \n",
        "\n",
        "# Заполняем первый стержень всеми дисками\n",
        "for i in range(disks, 0, -1):\n",
        "    A.push(i)\n",
        "    \n",
        "print('A')\n",
        "A.print()\n",
        "\n",
        "print('--- Перемещения ---')\n",
        "\n",
        "# Основная функция, с помощью которой размещаем диски на стержнях\n",
        "def move(st1, st2, let1, let2):\n",
        "    if st1.count == 0 and st2.count > 0:\n",
        "        st1.push(st2.pop())\n",
        "    elif st1.count > 0 and st2.count == 0:\n",
        "        st2.push(st1.pop())\n",
        "    elif st1.top() > st2.top():\n",
        "        st1.push(st2.pop())\n",
        "    else:\n",
        "        st2.push(st1.pop())\n",
        "    \n",
        "    print('\\n',let1)\n",
        "    st1.print()\n",
        "    print(let2)\n",
        "    st2.print()\n",
        "\n",
        "if disks % 2 == 0:\n",
        "    while C.count != disks:\n",
        "        move(A, B, 'A', 'B')\n",
        "        move(A, C, 'A', 'C')\n",
        "        move(B, C, 'B', 'C')\n",
        "else:\n",
        "    while C.count != disks:\n",
        "        move(A, C, 'A', 'C')\n",
        "        if C.count == disks:\n",
        "            break\n",
        "        move(A, B, 'A', 'B')\n",
        "        move(B, C, 'B', 'C')\n",
        "\n",
        "print('--- Итог ---')\n",
        "print('C')\n",
        "C.print()"
      ]
    },
    {
      "cell_type": "markdown",
      "id": "assumed-facility",
      "metadata": {
        "id": "assumed-facility"
      },
      "source": [
        "### Задание 4\n",
        "Дан текстовый файл с программой на алгоритмическом языке. За один просмотр\n",
        "файла проверить баланс круглых скобок в тексте, используя `Stack`."
      ]
    },
    {
      "cell_type": "code",
      "execution_count": null,
      "id": "numerous-bradford",
      "metadata": {
        "colab": {
          "base_uri": "https://localhost:8080/",
          "height": 356
        },
        "id": "numerous-bradford",
        "outputId": "e9e44fb4-d552-4f7d-a15b-b758139a2bfc"
      },
      "outputs": [
        {
          "output_type": "error",
          "ename": "NameError",
          "evalue": "ignored",
          "traceback": [
            "\u001b[0;31m---------------------------------------------------------------------------\u001b[0m",
            "\u001b[0;31mNameError\u001b[0m                                 Traceback (most recent call last)",
            "\u001b[0;32m<ipython-input-1-56648e3680c0>\u001b[0m in \u001b[0;36m<module>\u001b[0;34m()\u001b[0m\n\u001b[1;32m     23\u001b[0m     \u001b[0;32mreturn\u001b[0m \u001b[0mst\u001b[0m\u001b[0;34m.\u001b[0m\u001b[0misEmpty\u001b[0m\u001b[0;34m(\u001b[0m\u001b[0;34m)\u001b[0m\u001b[0;34m\u001b[0m\u001b[0;34m\u001b[0m\u001b[0m\n\u001b[1;32m     24\u001b[0m \u001b[0;34m\u001b[0m\u001b[0m\n\u001b[0;32m---> 25\u001b[0;31m \u001b[0mprint\u001b[0m\u001b[0;34m(\u001b[0m\u001b[0misBracketsBalance\u001b[0m\u001b[0;34m(\u001b[0m\u001b[0;34m')()('\u001b[0m\u001b[0;34m)\u001b[0m\u001b[0;34m)\u001b[0m\u001b[0;34m\u001b[0m\u001b[0;34m\u001b[0m\u001b[0m\n\u001b[0m\u001b[1;32m     26\u001b[0m \u001b[0mprint\u001b[0m\u001b[0;34m(\u001b[0m\u001b[0misBracketsBalance\u001b[0m\u001b[0;34m(\u001b[0m\u001b[0;34m'()())((())(()(())()'\u001b[0m\u001b[0;34m)\u001b[0m\u001b[0;34m)\u001b[0m\u001b[0;34m\u001b[0m\u001b[0;34m\u001b[0m\u001b[0m\n\u001b[1;32m     27\u001b[0m \u001b[0mprint\u001b[0m\u001b[0;34m(\u001b[0m\u001b[0misBracketsBalance\u001b[0m\u001b[0;34m(\u001b[0m\u001b[0;34m'(()())()()()()(()(()(())()))'\u001b[0m\u001b[0;34m)\u001b[0m\u001b[0;34m)\u001b[0m\u001b[0;34m\u001b[0m\u001b[0;34m\u001b[0m\u001b[0m\n",
            "\u001b[0;32m<ipython-input-1-56648e3680c0>\u001b[0m in \u001b[0;36misBracketsBalance\u001b[0;34m(s)\u001b[0m\n\u001b[1;32m      7\u001b[0m     \u001b[0;31m# Создаем Stack размером с исходную строку\u001b[0m\u001b[0;34m\u001b[0m\u001b[0;34m\u001b[0m\u001b[0;34m\u001b[0m\u001b[0m\n\u001b[1;32m      8\u001b[0m     \u001b[0;31m# будем харнить в нем все открывающиеся скобки\u001b[0m\u001b[0;34m\u001b[0m\u001b[0;34m\u001b[0m\u001b[0;34m\u001b[0m\u001b[0m\n\u001b[0;32m----> 9\u001b[0;31m     \u001b[0mst\u001b[0m \u001b[0;34m=\u001b[0m \u001b[0mStack\u001b[0m\u001b[0;34m(\u001b[0m\u001b[0mlen\u001b[0m\u001b[0;34m(\u001b[0m\u001b[0ms\u001b[0m\u001b[0;34m)\u001b[0m\u001b[0;34m)\u001b[0m\u001b[0;34m\u001b[0m\u001b[0;34m\u001b[0m\u001b[0m\n\u001b[0m\u001b[1;32m     10\u001b[0m \u001b[0;34m\u001b[0m\u001b[0m\n\u001b[1;32m     11\u001b[0m     \u001b[0;31m# Начинаем перебирать строку со скобками\u001b[0m\u001b[0;34m\u001b[0m\u001b[0;34m\u001b[0m\u001b[0;34m\u001b[0m\u001b[0m\n",
            "\u001b[0;31mNameError\u001b[0m: name 'Stack' is not defined"
          ]
        }
      ],
      "source": [
        "# Основная функция\n",
        "def isBracketsBalance(s):\n",
        "    # Если число скобок нечетное, сразу возвращаем результат\n",
        "    if len(s) % 2 != 0:\n",
        "        return False\n",
        "    \n",
        "    # Создаем Stack размером с исходную строку\n",
        "    # будем харнить в нем все открывающиеся скобки\n",
        "    st = Stack(len(s))\n",
        "    \n",
        "    # Начинаем перебирать строку со скобками\n",
        "    for c in s:\n",
        "        if c == '(':\n",
        "            st.push(c)\n",
        "        # Если встретили закрывающую скобку, то проверяем не пуст ли Stack \n",
        "        # и если это не так, то удаляем скобку в начале списка\n",
        "        if c == ')':\n",
        "            if st.isEmpty():\n",
        "                return False\n",
        "            st.pop()\n",
        "            \n",
        "    # Возващяем boolean значение \"пуст ли Stack\"\n",
        "    return st.isEmpty()\n",
        "\n",
        "print(isBracketsBalance(')()('))\n",
        "print(isBracketsBalance('()())((())(()(())()'))\n",
        "print(isBracketsBalance('(()())()()()()(()(()(())()))'))\n",
        "print(isBracketsBalance('))(('))"
      ]
    },
    {
      "cell_type": "markdown",
      "id": "indie-intranet",
      "metadata": {
        "id": "indie-intranet"
      },
      "source": [
        "### Задание 5\n",
        "Дан текстовый файл с программой на алгоритмическом языке. За один просмотр\n",
        "файла проверить баланс квадратных скобок в тексте, используя `Deque`."
      ]
    },
    {
      "cell_type": "code",
      "execution_count": null,
      "id": "impossible-talent",
      "metadata": {
        "colab": {
          "base_uri": "https://localhost:8080/"
        },
        "id": "impossible-talent",
        "outputId": "b945483f-b5cb-4c08-d59d-bdde49afdc24"
      },
      "outputs": [
        {
          "output_type": "stream",
          "name": "stdout",
          "text": [
            "False\n",
            "False\n",
            "True\n",
            "False\n"
          ]
        }
      ],
      "source": [
        "# Основная функция\n",
        "def isBracketsBalance(s):\n",
        "    # Если число скобок нечетное, сразу возвращаем результат\n",
        "    if len(s) % 2 != 0:\n",
        "        return False\n",
        "    \n",
        "    # Создаем Deque размером с исходную строку\n",
        "    # будем харнить в нем все открывающиеся скобки.\n",
        "    d = Deque(len(s))\n",
        "    \n",
        "    # Начинаем перебирать строку со скобками\n",
        "    for c in s:\n",
        "        if c == '[':\n",
        "            d.push(c)\n",
        "        # Если встретили закрывающую скобку, то проверяем не пуст ли Deque \n",
        "        # и если это не так, то удаляем скобку в начале списка\n",
        "        if c == ']':\n",
        "            if d.isEmpty():\n",
        "                return False\n",
        "            d.pop()\n",
        "            \n",
        "    # Возващяем boolean значение \"пуст ли Deque\"\n",
        "    return d.isEmpty()\n",
        "\n",
        "print(isBracketsBalance('[[]'))\n",
        "print(isBracketsBalance('[][[][[[[]][[]]]]]]'))\n",
        "print(isBracketsBalance('[[][][][[][]][][[][][][][]]][]'))\n",
        "print(isBracketsBalance('][][[]'))"
      ]
    },
    {
      "cell_type": "markdown",
      "id": "hairy-nurse",
      "metadata": {
        "id": "hairy-nurse"
      },
      "source": [
        "### Задание 6\n",
        "Дан файл из символов. Используя `Stack`, за один просмотр файла напечатать\n",
        "сначала все цифры, затем все буквы, и, наконец, все остальные символы, сохраняя\n",
        "исходный порядок в каждой группе символов."
      ]
    },
    {
      "cell_type": "code",
      "execution_count": null,
      "id": "difficult-heart",
      "metadata": {
        "scrolled": true,
        "colab": {
          "base_uri": "https://localhost:8080/"
        },
        "id": "difficult-heart",
        "outputId": "c4aeb179-c684-4668-ad3e-eef7b5d86cc9"
      },
      "outputs": [
        {
          "output_type": "stream",
          "name": "stdout",
          "text": [
            "1994 95 95 1995 3 3 81 2002 9 2002 2004 30 90 2005 \n",
            "Изначально нацеленный на разработку видеоигр DirectX стал популярен и в других областях разработки программного обеспечения К примеру DirectX наряду с OpenGL получил очень широкое распространение в инженерномматематическом ПО В году Microsoft была практически готова выпустить следующую революционную версию Windows — Windows Главным фактором определяющим насколько популярна будет новая ОС являлся набор программ которые можно будет запускать под её управлением В компании пришли к выводу что пока разработчики видят DOS более подходящей для написания игровых приложений коммерческий успех новой ОС весьма сомнителен DOS позволяла разработчику получить прямой доступ к видеокарте клавиатуремышиджойстику и прочим частям системы в то время как Windows с её защищённой моделью памяти предоставляла более стандартизованный но в то же время весьма ограниченный и накладный доступ к устройствам Microsoft нуждалась в новом способе дать разработчику всё что ему необходимо Крэйг Айслер Craig Eisler Алекс Сэйнт Джон Alex St John и Эрик Энгстром Eric Engstrom решили эту проблему назвав само решение DirectX Первый релиз DirectX был выпущен в сентябре года под названием «Windows Game SDK» Ещё до появления DirectX Microsoft включила OpenGL в ОС Windows NT DirectD позиционировался как замена OpenGL в игровой сфере Отсюда берёт своё начало противостояние между сторонниками кроссплатформенной OpenGL и доступной лишь в Windows в том числе Windows NT DirectD Так или иначе остальные части DirectX очень часто комбинируются с OpenGL в компьютерных играх так как OpenGL как таковой не подразумевает функциональности уровня DirectX например доступа к клавиатуреджойстикумыши поддержки звука игр по сети и т д DirectX является базой для Xbox API Xbox API схож с DirectX но обновление версии как и на других консолях того времени невозможно В году Microsoft выпустила DirectX с улучшенной и расширенной поддержкой шейдеров С года DirectX неоднократно обновлялся В августе года в DirectX была добавлена поддержка шейдеров версии DirectX c В апреле интерфейс DirectShow был перемещён в Microsoft Platform SDK\n",
            ", . , , , / . , , . , , , , . , , , . , // , , , , . , . ( ), ( . ) ( ) , . . . . - ( ) . , , (, //, , . .). ; ., , , . . . . ( .). .?\n"
          ]
        }
      ],
      "source": [
        "t = ''\n",
        "\n",
        "symbs = ''\n",
        "nums = ''\n",
        "lets = ''\n",
        "\n",
        "# Записываем весь текст из файла в переменную\n",
        "f = open('text.txt', encoding=\"utf8\")\n",
        "for line in f:\n",
        "    t += line\n",
        "f.close()\n",
        "\n",
        "# Создаем стек и заполняем его всеми символами подряд из файла в обратном порядке\n",
        "st = Stack(len(t))\n",
        "for c in reversed(t):\n",
        "    st.push(c)\n",
        "\n",
        "# Проходим по всему стеку ОДИН РАЗ и сравниваем коды символов с необходимыми, \n",
        "# помещаем символы в соответствующие массивы\n",
        "for i in range(len(t)):\n",
        "    # Если символ это цифра\n",
        "    if ord(st.top()) >= 48 and ord(st.top()) < 58:\n",
        "        nums += st.pop()\n",
        "    # Если это спец. символ\n",
        "    elif ord(st.top()) >= 33 and ord(st.top()) < 48 or ord(st.top()) >= 58 and ord(st.top()) < 65:\n",
        "        symbs += st.pop()\n",
        "    # Если это пробел\n",
        "    elif ord(st.top()) == 32:\n",
        "        if len(symbs)-1 > -1 and ord(symbs[len(symbs)-1]) != 32:\n",
        "            symbs += ' '\n",
        "        if len(nums)-1 > -1 and ord(nums[len(nums)-1]) != 32:\n",
        "            nums += ' '\n",
        "        if len(lets)-1 > -1 and ord(lets[len(lets)-1]) != 32:\n",
        "            lets += ' '\n",
        "        st.pop()\n",
        "    # Все остальное\n",
        "    else:\n",
        "        lets += st.pop()\n",
        "        \n",
        "print(nums)\n",
        "print(lets)\n",
        "print(symbs)"
      ]
    },
    {
      "cell_type": "markdown",
      "id": "editorial-slovak",
      "metadata": {
        "id": "editorial-slovak"
      },
      "source": [
        "### Задание 7\n",
        "Дан файл из целых чисел. Используя `Deque`, за один просмотр файла напечатать\n",
        "сначала все отрицательные числа, затем все положительные числа, сохраняя\n",
        "исходный порядок в каждой группе."
      ]
    },
    {
      "cell_type": "code",
      "execution_count": null,
      "id": "premium-martial",
      "metadata": {
        "colab": {
          "base_uri": "https://localhost:8080/"
        },
        "id": "premium-martial",
        "outputId": "a308ce0c-9bdc-4acf-ab02-e8a79b05b70b"
      },
      "outputs": [
        {
          "output_type": "stream",
          "name": "stdout",
          "text": [
            "Отрицательные числа: -249 -287 -431 -266 -494 -152 -465 -80 -91 -356 -174 -121 -96 -338 -139 -472 -231 -168 -417 -217 -266 -204 -343 -245 -301 -12 -312 -354 -323 -213 -181 -74 -263 -99 -172 -443 -440 -26 -374 -93 -249 -250 -302 -461 -54 -193 -414 -227 -162 -375 -137 -19 -36 -342 -359\n",
            "Положительные числа: 489 327 216 409 301 44 357 122 301 33 230 58 59 209 3 326 301 237 246 350 76 183 331 307 249 426 125 242 386 96 276 497 369 478 448 85 444 209 248 408 306 114 372 462 343 \n"
          ]
        }
      ],
      "source": [
        "t = ''\n",
        "\n",
        "pos = ''\n",
        "neg = ''\n",
        "\n",
        "# Записываем весь текст из файла в переменную\n",
        "f = open('nums.txt', encoding=\"utf8\")\n",
        "for line in f:\n",
        "    t += line\n",
        "f.close()\n",
        "\n",
        "# Создаем стек и заполняем его всеми символами подряд из файла в обратном порядке\n",
        "st = Stack(len(t))\n",
        "for c in reversed(t):\n",
        "    st.push(c)\n",
        "\n",
        "isNegAdd = False\n",
        "# Проходим по всему стеку ОДИН РАЗ и сравниваем коды символов с необходимыми, \n",
        "# помещаем символы в соответствующие массивы\n",
        "for i in range(len(t)):\n",
        "    # Если это пробел\n",
        "    if ord(st.top()) == 32:\n",
        "        isNegAdd = False\n",
        "        if len(pos)-1 > -1 and ord(pos[len(pos)-1]) != 32:\n",
        "            pos += ' '\n",
        "        if len(neg)-1 > -1 and ord(neg[len(neg)-1]) != 32:\n",
        "            neg += ' '\n",
        "        st.pop()\n",
        "    # Если это минус (-)\n",
        "    elif ord(st.top()) == 45:\n",
        "        isNegAdd = True\n",
        "        neg += st.pop()\n",
        "    else:\n",
        "        if isNegAdd:\n",
        "            neg += st.pop()\n",
        "        else:\n",
        "            pos += st.pop()\n",
        "            \n",
        "print(\"Отрицательные числа:\", neg)\n",
        "print(\"Положительные числа:\", pos)"
      ]
    },
    {
      "cell_type": "markdown",
      "id": "dried-plane",
      "metadata": {
        "id": "dried-plane"
      },
      "source": [
        "### Задание 8\n",
        "Дан текстовый файл. Используя `Stack`, сформировать новый текстовый файл,\n",
        "содержащий строки исходного файла, записанные в обратном порядке: первая\n",
        "строка становится последней, вторая – предпоследней и т.д."
      ]
    },
    {
      "cell_type": "code",
      "execution_count": null,
      "id": "historical-dodge",
      "metadata": {
        "id": "historical-dodge"
      },
      "outputs": [],
      "source": [
        "# Функция для удаления символов переноса строки\n",
        "def nlDel(s):\n",
        "    pos = s.find('\\n')\n",
        "    if pos > -1:\n",
        "        return s[0:pos]\n",
        "    else:\n",
        "        return s\n",
        "\n",
        "books = []\n",
        "    \n",
        "# Открываем файл для записи\n",
        "f = open('output.txt', encoding=\"utf8\")\n",
        "# Копируем книги из файла в список \"Books\"\n",
        "for line in f:\n",
        "    books.append(nlDel(line))\n",
        "f.close()\n",
        "\n",
        "s = Stack(len(books))\n",
        "\n",
        "# Заполняем Stack\n",
        "for i in range(len(books)):\n",
        "    s.push(books[i])\n",
        "\n",
        "# Открываем файл для записи \n",
        "f = open('output-reverse.txt', 'w', encoding=\"utf8\")\n",
        "# Заносим отсортированные книги в файл\n",
        "for i in range(s.count):\n",
        "    print(s.pop(), file=f)\n",
        "f.close()"
      ]
    },
    {
      "cell_type": "markdown",
      "id": "graduate-japan",
      "metadata": {
        "id": "graduate-japan"
      },
      "source": [
        "### Вывод\n",
        "Выполнив данную лабораторную работу, я более ясно понял принцип работы `Stack` и `Deque`."
      ]
    }
  ],
  "metadata": {
    "kernelspec": {
      "display_name": "Python 3",
      "language": "python",
      "name": "python3"
    },
    "language_info": {
      "codemirror_mode": {
        "name": "ipython",
        "version": 3
      },
      "file_extension": ".py",
      "mimetype": "text/x-python",
      "name": "python",
      "nbconvert_exporter": "python",
      "pygments_lexer": "ipython3",
      "version": "3.9.1"
    },
    "colab": {
      "name": "Lab4.ipynb",
      "provenance": []
    }
  },
  "nbformat": 4,
  "nbformat_minor": 5
}